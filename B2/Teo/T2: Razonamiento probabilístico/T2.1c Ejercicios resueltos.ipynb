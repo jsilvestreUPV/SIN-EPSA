{
 "cells": [
  {
   "cell_type": "markdown",
   "metadata": {},
   "source": [
    "# T2.1 Ejercicios de razonamiento probabilístico: representación e inferencia. \n"
   ]
  },
  {
   "cell_type": "markdown",
   "metadata": {},
   "source": [
    "### Ejercicio 1\n",
    "\n",
    "Dada la siguiente tabla de probabilidades conjuntas de tres variables de interés:\n",
    "$$\\begin{array}{|c|cccccccc|}\\hline\n",
    "A & 0 & 0 & 0 & 0 & 1 & 1 & 1 & 1\\\\\n",
    "B & 0 & 0 & 1 & 1 & 0 & 0 & 1 & 1\\\\\n",
    "C & 0 & 1 & 0 & 1 & 0 & 1 & 0 & 1\\\\\\hline\n",
    "P(A,B,C) & 0.093 & 0.100 & 0.133 & 0.163 & 0.157 & 0.150 & 0.117 & 0.087\\\\\n",
    "\\hline\\end{array}$$\n",
    "Cúal és el valor de $P(A=1, B=1 \\mid C=1)$?\n",
    "1. $P(A=1, B=1 \\mid C=1) \\leq 0.25$\n",
    "2. $0.25 < P(A=1, B=1 \\mid C=1) \\leq 0.50$\n",
    "3. $0.50 < P(A=1, B=1 \\mid C=1) \\leq 0.75$\n",
    "4. $0.75 < P(A=1, B=1 \\mid C=1)$"
   ]
  },
  {
   "cell_type": "markdown",
   "metadata": {},
   "source": [
    "**Solución:** $\\;$ la (1), ya que $\\;P(A=1, B=1 \\mid C=1) = 0.174$\n",
    "\n",
    "$$\\begin{align*}\n",
    "P(A=1,B=1\\mid C=1)&=\\frac{P(A=1,B=1,C=1)}{P(C=1)}\\\\%\n",
    "&=\\frac{P(A=1,B=1,C=1)}{\\sum_a \\sum_b P(A=a, B=b, C=1)}\\\\%\n",
    "&=\\frac{P(A=1,B=1,C=1)}{P(A=0, B=0, C=1)+P(A=0, B=1, C=1)+P(A=1, B=0, C=1)+P(A=1, B=1, C=1)}\\\\%\n",
    "&=\\frac{P(A=1,B=1,C=1)}{P(A=0, B=0, C=1)+P(A=0, B=1, C=1)+P(A=1, B=0, C=1)+P(A=1, B=1, C=1)}\\\\%\n",
    "&=\\frac{0.087}{0.1+0.163+0.15+0.087} = 0.174\n",
    "\\end{align*}$$"
   ]
  },
  {
   "cell_type": "markdown",
   "metadata": {},
   "source": [
    "---"
   ]
  },
  {
   "cell_type": "markdown",
   "metadata": {},
   "source": [
    "### Ejercicio 2:\n",
    "\n",
    "Supón que tenemos dos cajas con 40 naranjas en la primera y 80 en la segunda. La primera caja contiene 9 naranjas Navelina y 31 Caracara. La segunda caja contiene tres veces más naranjas Navelina que Caracara. Ahora supón que se escoge una caja al azar, y después una naranja al azar de la caja escogida. Si la naranja escogida es Navelina, la probabilidad $P$ de que proceda de la primera caja es:\n",
    "1. $0/4\\leq P<1/4$.\n",
    "2. $1/4\\leq P<2/4$.\n",
    "3. $2/4\\leq P<3/4$.\n",
    "4. $3/4\\leq P\\leq 4/4$."
   ]
  },
  {
   "cell_type": "markdown",
   "metadata": {},
   "source": [
    "**Solución:** la (1), ya que $P(C=1\\mid T=\\text{Nav}) = 0.23$.\n",
    "$$\\begin{align*}\n",
    "P=P(C=1\\mid T=\\text{Nav})&=\\frac{P(C=1, T=\\text{Nav})}{P(T=\\text{Nav})}\\\\%\n",
    "&=\\frac{P(C=1)P(T=\\text{Nav}\\mid C=1)}{\\sum_c P(T=\\text{Nav}, C=c)}\\\\%\n",
    "&=\\frac{P(C=1)P(T=\\text{Nav}\\mid C=1)}{\\sum_c P(C=c)P(T=\\text{Nav}| C=c)}\\\\%\n",
    "&=\\frac{P(C=1)P(T=\\text{Nav}\\mid C=1)}{P(C=1)P(T=\\text{Nav}\\mid C=1)+P(C=2)P(T=\\text{Nav}\\mid C=2)}\\\\%\n",
    "&=\\frac{1/2\\cdot9/40}{1/2\\cdot9/40+1/2\\cdot3/4}=\\frac{9}{9+30}=0.23\n",
    "\\end{align*}$$"
   ]
  },
  {
   "cell_type": "markdown",
   "metadata": {},
   "source": [
    "---"
   ]
  },
  {
   "cell_type": "markdown",
   "metadata": {},
   "source": [
    "### Ejercicio 3:\n",
    "\n",
    "Dada la siguiente tabla de frecuencias conjuntas de tres variables de interés:\n",
    "$$\\begin{array}{|c|cccccccc|}\\hline\n",
    "A & 0 & 0 & 0 & 0 & 1 & 1 & 1 & 1\\\\\n",
    "B & 0 & 0 & 1 & 1 & 0 & 0 & 1 & 1\\\\\n",
    "C & 0 & 1 & 0 & 1 & 0 & 1 & 0 & 1\\\\\\hline\n",
    "N(A,B,C) & 124 & 28 & 227 & 175 & 126 & 222 & 23 & 75\\\\\n",
    "\\hline\\end{array}$$\n",
    "Cúal és el valor de $P(A=1 \\mid B=1,C=0)$?\n",
    "1. $0.023$\n",
    "2. $0.250$\n",
    "3. $0.092$\n",
    "4. $0.446$"
   ]
  },
  {
   "cell_type": "markdown",
   "metadata": {},
   "source": [
    "**Solución:** $\\;$ la (3).\n",
    "\n",
    "Primero obtenemos la tabla de probabilidades, normalizando las cuentas $N(A,B,C)$ con el total de muestras $N$:\n",
    "\n",
    "\n",
    "$$P(A=a, B=b, C=c) = \\frac{N(A=a,B=b,C=c)}{N}$$\n",
    "\n",
    "Siendo $N$:\n",
    "\n",
    "$$\\begin{align*}\n",
    "N &= \\sum_a \\sum_b \\sum_c N(A=a,B=b,C=c) \\\\\n",
    "&= 124 + 28 + 227 + 175 + 126 + 222 + 23 + 75 \\\\\n",
    "&= 1000\n",
    "\\end{align*}$$\n",
    "\n",
    "Entonces:\n",
    "\n",
    "$$\\begin{array}{|c|cccccccc|}\\hline\n",
    "A & 0 & 0 & 0 & 0 & 1 & 1 & 1 & 1\\\\\n",
    "B & 0 & 0 & 1 & 1 & 0 & 0 & 1 & 1\\\\\n",
    "C & 0 & 1 & 0 & 1 & 0 & 1 & 0 & 1\\\\\\hline\n",
    "P(A,B,C) & 0.124 & 0.028 & 0.227 & 0.175 & 0.126 & 0.222 & 0.023 & 0.075\\\\\n",
    "\\hline\\end{array}$$\n",
    "\n",
    "Ahora ya podemos calcular $P(A=1 \\mid B=1, C=0)$:\n",
    "\n",
    "$$\\begin{align*}\n",
    "P(A=1 \\mid B=1, C=0)&=\\frac{P(A=1,B=1,C=0)}{P(B=1,C=0)}\\\\%\n",
    "&=\\frac{P(A=1,B=1,C=0)}{\\sum_a P(A=a,B=1,C=0)}\\\\%\n",
    "&=\\frac{P(A=1,B=1,C=0)}{P(A=0,B=1,C=0) + P(A=1,B=1,C=0)}\\\\%\n",
    "&=\\frac{0.023}{0.227+0.023} = 0.092\n",
    "\\end{align*}$$"
   ]
  },
  {
   "cell_type": "markdown",
   "metadata": {},
   "source": [
    "---"
   ]
  },
  {
   "cell_type": "markdown",
   "metadata": {},
   "source": [
    "### Ejercicio 4:\n",
    "\n",
    "Sea un problema de razonamiento probabilístico sobre desplazamientos por carretera, con las variables aleatorias de interés:\n",
    "* Climatología ($C$): \\{claro(cla), nublado (nub), lluvia (llu)\\}\n",
    "* Luminosidad ($L$): \\{día (dia), noche (noc)\\}\n",
    "* Seguridad ($S$): \\{seguro (seg), accidente (acc)\\}\n",
    "\n",
    "La probabilidad conjunta de las tres variables viene dada en la tabla:\n",
    "$$\\begin{array}{c|ccc|ccc}\n",
    "& & \\text{dia} & & & \\text{noc}\\\\\\hline\n",
    "P(S, L, C) & \\text{cla} & \\text{nub} & \\text{llu} & \\text{cla} & \\text{nub} & \\text{llu}\\\\\\hline\n",
    "\\text{seg} & 0.27 & 0.23 & 0.07 & 0.16 & 0.07 & 0.06\\\\\n",
    "\\text{acc} & 0.02 & 0.01 & 0.02 & 0.02 & 0.03 & 0.04\\\\\\hline\\end{array}$$\n",
    "La probabilidad condicional $P(S=\\text{acc} \\mid L=\\text{dia},C=\\text{nub})$ es:\n",
    "1. $0.042$\n",
    "2. $0.010$\n",
    "3. $0.240$\n",
    "4. $0.140$"
   ]
  },
  {
   "cell_type": "markdown",
   "metadata": {},
   "source": [
    "**Solución:** $\\;$ la (1).\n",
    "\n",
    "$$\\begin{align*}\n",
    "P(S=\\text{acc} \\mid L=\\text{dia},C=\\text{nub})&=\\frac{P(S=\\text{acc},L=\\text{dia},C=\\text{nub})}{P(L=\\text{dia},C=\\text{nub})}\\\\%\n",
    "&=\\frac{P(S=\\text{acc},L=\\text{dia},C=\\text{nub})}{\\sum_s P(S=s, L=\\text{dia},C=\\text{nub})}\\\\%\n",
    "&=\\frac{P(S=\\text{acc},L=\\text{dia},C=\\text{nub})}{P(S=\\text{seg}, L=\\text{dia},C=\\text{nub})+P(S=\\text{acc}, L=\\text{dia},C=\\text{nub})}\\\\%\n",
    "&=\\frac{0.01}{0.23+0.01}=0.0416\\approx0.042\n",
    "\\end{align*}$$"
   ]
  }
 ],
 "metadata": {
  "kernelspec": {
   "display_name": "Python 3",
   "language": "python",
   "name": "python3"
  },
  "language_info": {
   "codemirror_mode": {
    "name": "ipython",
    "version": 3
   },
   "file_extension": ".py",
   "mimetype": "text/x-python",
   "name": "python",
   "nbconvert_exporter": "python",
   "pygments_lexer": "ipython3",
   "version": "3.10.7"
  }
 },
 "nbformat": 4,
 "nbformat_minor": 2
}
