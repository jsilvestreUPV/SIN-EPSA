{
 "cells": [
  {
   "cell_type": "markdown",
   "metadata": {},
   "source": [
    "# T5.1 Ejercicios sobre clustering"
   ]
  },
  {
   "cell_type": "markdown",
   "metadata": {},
   "source": [
    "# Ejercicio 1\n",
    "\n",
    "Tenemos una partición de un conjunto de datos $3$-dimensionales en un número de clústeres dado, $C\\geq 2$. Considerad la transferencia del dato $\\boldsymbol{x}=(3,6,4)^t$ de un clúster $j$ a otro $i$, $j\\neq i$. Se sabe que el clúster $j$ contiene $3$ datos (contando $\\boldsymbol{x}$), y el $i$ también $3$. Así mismo, se sabe que la media del clúster $j$ es $\\,\\boldsymbol{m}_j=(3,3,2)^t\\,$ y la del $i,\\,\\boldsymbol{m}_i=(7,6,9)^t$. Si se realiza dicha transferencia, se producirá un incremento de la suma de errores cuadráticos, $\\Delta J$, tal que:\n",
    "1. $\\Delta J<-70$\n",
    "2. $-70\\leq\\Delta J<-30$\n",
    "3. $-30\\leq\\Delta J<0$\n",
    "4. $\\Delta J\\geq 0$"
   ]
  },
  {
   "cell_type": "markdown",
   "metadata": {},
   "source": [
    "### Solución\n",
    "\n",
    "El incremento de la SEQ $\\Delta J$ será: \n",
    "\n",
    "$$\\begin{align*}\n",
    "\\Delta J &= \\frac{\\lvert X_i\\rvert}{\\lvert X_i\\rvert + 1}\\lVert\\boldsymbol{x}-\\boldsymbol{m}_i\\rVert_2^2-\\frac{\\lvert X_j\\rvert}{\\lvert X_j\\rvert - 1}\\lVert\\boldsymbol{x}-\\boldsymbol{m}_j\\rVert_2^2 \\\\\n",
    "&= \\frac{3}{4} \\; \\lVert(3,6,4)-(7,6,9)\\rVert_2^2 - \\frac{3}{2}\\; \\lVert(3,6,4)-(3,3,2)\\rVert_2^2 \\\\\n",
    "&= \\frac{3}{4} 41 - \\frac{3}{2} 13 = 11.25\n",
    "\\end{align*}$$\n",
    "\n",
    "**Nota: cuidado con los índices $i$ y $j$**. En este enunciado, $j$ es el cluster origen, y $i$ es el cluster destino, motivo por el que hemos \"alterado\" convenientemente la fórmula de $\\Delta J$.\n",
    "\n",
    "\n",
    "**Respuesta correcta:** la 4."
   ]
  },
  {
   "cell_type": "markdown",
   "metadata": {},
   "source": [
    "# Ejercicio 2\n",
    "\n",
    "La figura siguiente muestra una partición de $6$ puntos bidimensionales en dos clústeres, $\\circ$ y $\\bullet$:"
   ]
  },
  {
   "cell_type": "code",
   "execution_count": 1,
   "metadata": {},
   "outputs": [
    {
     "data": {
      "image/png": "[encoded data removed]",
      "text/plain": [
       "<Figure size 500x100 with 1 Axes>"
      ]
     },
     "metadata": {},
     "output_type": "display_data"
    }
   ],
   "source": [
    "import numpy as np; import matplotlib.pyplot as plt\n",
    "fig = plt.figure(figsize=(5, 1)); plt.xlim([-.3, 10.3]); plt.ylim([-.3, 2.3]);\n",
    "plt.xticks(np.arange(0, 11)); plt.yticks(np.arange(0, 3)); plt.grid()\n",
    "X = np.array([[1,0], [1,1], [4,0], [8,1], [9,0], [9,2]]); y = np.array([1, 1, 1, 2, 2, 2])\n",
    "plt.scatter(*X.T, c=y, cmap=plt.cm.binary, edgecolors='black');"
   ]
  },
  {
   "cell_type": "markdown",
   "metadata": {},
   "source": [
    "Si transferimos de clúster el punto $(1,0)^t$, se produce una variación de la suma de errores cuadráticos (SEQ), $\\Delta J=J-J'$ (SEQ después del intercambio menos SEQ antes del intercambio), tal que:\n",
    "1. $\\Delta J<-7$\n",
    "2. $-7\\leq \\Delta J<0$\n",
    "3. $0\\leq \\Delta J<7$\n",
    "4. $\\Delta J\\geq 7$"
   ]
  },
  {
   "cell_type": "markdown",
   "metadata": {},
   "source": [
    "### Solución\n",
    "\n",
    "Primero, calculamos $J'$ (SEQ antes del intercambio).\n",
    "\n",
    "$\\boldsymbol{m'_1}=\\frac{(1,0)+(1,1)+(4,0)}{3} = (2,\\frac{1}{3}); \\;\n",
    "\\boldsymbol{m'_2}=\\frac{(8,1)+(9,0)+(9,2)}{3} = (\\frac{26}{3},1)$\n",
    "\n",
    "$ J'_1 = \\lVert{(1,0)-(2,\\frac{1}{3})}\\rVert_2^2 + \\lVert{(1,1)-(2,\\frac{1}{3})}\\rVert_2^2 + \\lVert{(4,0)-(2,\\frac{1}{3})}\\rVert_2^2 = \\frac{10}{9} + \\frac{13}{9} + \\frac{37}{9} = \\frac{60}{9}$\n",
    "\n",
    "$ J'_2 = \\lVert{(8,1)-(\\frac{26}{3},1)}\\rVert_2^2 + \\lVert{(9,0)-(\\frac{26}{3},1)}\\rVert_2^2 + \\lVert{(9,2)-(\\frac{26}{3},1)}\\rVert_2^2 = \\frac{4}{9} + \\frac{10}{9} + \\frac{10}{9} = \\frac{24}{9}$\n",
    "\n",
    "$ J' = J'_1 + J'_2 = \\frac{60}{9} + \\frac{24}{9} = \\frac{84}{9} = 9.3$\n",
    "\n",
    "Segundo, calculamos $J$ (SEQ tras el intercambio).\n",
    "\n",
    "$\\boldsymbol{m_1}=\\frac{(1,1)+(4,0)}{2} = (\\frac{5}{2}, \\frac{1}{2}); \\;\n",
    "\\boldsymbol{m_2}=\\frac{(1,0)+(8,1)+(9,0)+(9,2)}{4} = (\\frac{27}{4},\\frac{3}{4})$\n",
    "\n",
    "$ J_1 = \\lVert{(1,1)-(\\frac{5}{2}, \\frac{1}{2})}\\rVert_2^2 + \\lVert{(4,0)-(\\frac{5}{2}, \\frac{1}{2})}\\rVert_2^2 = \\frac{5}{2} + \\frac{5}{2} = 5$\n",
    "\n",
    "$ J_2 = \\lVert{(1,0)-(\\frac{27}{4},\\frac{3}{4})}\\rVert_2^2 + \\lVert{(8,1)-(\\frac{27}{4},\\frac{3}{4})}\\rVert_2^2 + \\lVert{(9,0)-(\\frac{27}{4},\\frac{3}{4})}\\rVert_2^2 + \\lVert{(9,2)-(\\frac{27}{4},\\frac{3}{4})}\\rVert_2^2 = \\frac{538}{16} + \\frac{26}{16} + \\frac{90}{16} + \\frac{106}{16} = \\frac{95}{2}$\n",
    "\n",
    "$ J = J_1 + J_2 = 5 + \\frac{95}{2} = 52.5$\n",
    "\n",
    "Tercero, calculamos $\\Delta J$:\n",
    "\n",
    "$\\Delta J=J-J' = 52.5 - 9.3 = 43.2 $\n",
    "\n",
    "**Respuesta correcta:** la 4."
   ]
  },
  {
   "cell_type": "markdown",
   "metadata": {},
   "source": [
    "# Ejercicio 3\n",
    "\n",
    "La figura siguiente muestra una partición de $6$ puntos bidimensionales en dos clusters, $\\circ$ y $\\bullet$:"
   ]
  },
  {
   "cell_type": "code",
   "execution_count": 2,
   "metadata": {},
   "outputs": [
    {
     "data": {
      "image/png": "[encoded data removed]",
      "text/plain": [
       "<Figure size 500x100 with 1 Axes>"
      ]
     },
     "metadata": {},
     "output_type": "display_data"
    }
   ],
   "source": [
    "import numpy as np; import matplotlib.pyplot as plt\n",
    "fig = plt.figure(figsize=(5, 1)); plt.xlim([-.3, 10.3]); plt.ylim([-.3, 2.3])\n",
    "plt.xticks(np.arange(0, 11)); plt.yticks(np.arange(0, 3)); plt.grid()\n",
    "X = np.array([[2,0], [4,1], [6,0], [7,1], [9,2], [10,1]]); y = np.array([1, 1, 2, 1, 2, 2])\n",
    "plt.scatter(*X.T, c=y, cmap=plt.cm.binary, edgecolors='black');"
   ]
  },
  {
   "cell_type": "markdown",
   "metadata": {},
   "source": [
    "Si intercambiamos de clúster los puntos $(10,1)^t$ y $(7,1)^t$, se produce una variación de la suma de errores cuadráticos (SEQ),\n",
    "$\\Delta J=J-J'$ (SEQ después del intercambio menos SEQ antes del intercambio), tal que:\n",
    "1. $\\Delta J<-7$\n",
    "2. $-7\\leq \\Delta J<0$\n",
    "3. $0\\leq \\Delta J<7$\n",
    "4. $\\Delta J\\geq 7$"
   ]
  },
  {
   "cell_type": "markdown",
   "metadata": {},
   "source": [
    "### Solución\n",
    "\n",
    "**Respuesta correcta:** la 4, ya que $\\,\\Delta J=42.0-24.0=18.0$"
   ]
  }
 ],
 "metadata": {
  "kernelspec": {
   "display_name": "sin-2324",
   "language": "python",
   "name": "sin-2324"
  },
  "language_info": {
   "codemirror_mode": {
    "name": "ipython",
    "version": 3
   },
   "file_extension": ".py",
   "mimetype": "text/x-python",
   "name": "python",
   "nbconvert_exporter": "python",
   "pygments_lexer": "ipython3",
   "version": "3.8.10"
  }
 },
 "nbformat": 4,
 "nbformat_minor": 2
}
