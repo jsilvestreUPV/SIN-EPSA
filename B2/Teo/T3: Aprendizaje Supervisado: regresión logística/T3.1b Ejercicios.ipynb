{
 "cells": [
  {
   "cell_type": "markdown",
   "metadata": {},
   "source": [
    "# T3.1 Ejercicios sobre funciones discriminantes"
   ]
  },
  {
   "cell_type": "markdown",
   "metadata": {},
   "source": [
    "# Ejercicio 1\n",
    "\n",
    "Dado el clasificador en 2 clases definido\n",
    "por sus vectores de pesos $ \\boldsymbol{w}_1 =(-2,3,3)^t,\\; \\boldsymbol{w}_2 =(0,2,-2)^t$ en notación homogénea,\n",
    "cúal de los siguientes conjuntos de vectores **no** define un clasificador equivalente al dado?\n",
    "1. $\\boldsymbol{w}_1 =(1,3,3)^t,\\; \\boldsymbol{w}_2 =(3,2,-2)^t$\n",
    "2. $\\boldsymbol{w}_1 =(-4,6,6)^t,\\; \\boldsymbol{w}_2 =(0,4,-4)^t$\n",
    "3. $\\boldsymbol{w}_1 =(-1,6,6)^t,\\; \\boldsymbol{w}_2 =(3,4,-4)^t$\n",
    "4. $\\boldsymbol{w}_1 =(2,-3,-3)^t,\\; \\boldsymbol{w}_2 =(0,-2,2)^t$"
   ]
  },
  {
   "cell_type": "markdown",
   "metadata": {},
   "source": [
    "### Solución\n",
    "\n",
    "**Funciones discriminantes originales:**\n",
    "  - $g_1(x) = 3x_1 + 3x_2 -2$\n",
    "  - $g_2(x) = 2x_1 -2x_2 $\n",
    "\n",
    "**Respuesta 1:**\n",
    "\n",
    "  - $g'_1(x) = 3x_1 + 3x_2 + 1$\n",
    "  - $g'_2(x) = 2x_1 -2x_2 + 3 $\n",
    "\n",
    "    $f(z) = a\\cdot z + b; \\; \\text{con} \\; a = 1, \\, z = g_c(x), \\, b = 3 \\quad \\rightarrow \\quad g'_c(x) = 1 \\cdot g_c(x) + 3 \\; \\forall c \\quad \\rightarrow \\quad$ el clasificador es equivalente.\n",
    "\n",
    "**Respuesta 2:**\n",
    "\n",
    "  - $g'_1(x) = 6x_1 + 6x_2 - 4$\n",
    "  - $g'_2(x) = 4x_1 -4x_2 $\n",
    "\n",
    "    $f(z) = a\\cdot z + b; \\; \\text{con} \\; a = 2, \\, z = g_c(x), \\, b = 0 \\quad \\rightarrow \\quad g'_c(x) = 2 \\cdot g_c(x) \\; \\forall c \\quad \\rightarrow \\quad$ el clasificador es equivalente.\n",
    "\n",
    "**Respuesta 3:**\n",
    "\n",
    "  - $g'_1(x) = 6x_1 + 6x_2 + -1$\n",
    "  - $g'_2(x) = 4x_1 -4x_2 + 3 $\n",
    "\n",
    "    $f(z) = a\\cdot z + b; \\; \\text{con} \\; a = 2, \\, z = g_c(x), \\, b = 3 \\quad \\rightarrow \\quad g'_c(x) = 2 \\cdot g_c(x) + 3 \\; \\forall c \\quad \\rightarrow \\quad$ el clasificador es equivalente.\n",
    "\n",
    "**Respuesta 4:**\n",
    "\n",
    "  - $g'_1(x) = -3x_1 + -3x_2 + 2$\n",
    "  - $g'_2(x) = -2x_1 + 2x_2  $\n",
    "\n",
    "    $f(z) = a\\cdot z + b; \\; \\text{con} \\; a = -1, \\, z = g_c(x), \\, b = 0 \\quad \\rightarrow \\quad g'_c(x) = - \\cdot g_c(x) \\; \\forall c \\quad \\rightarrow \\quad$ el clasificador **NO** es equivalente ($a<0$).\n",
    "\n",
    "**Respuesta correcta:** \n",
    "   - la 4.\n"
   ]
  },
  {
   "cell_type": "markdown",
   "metadata": {},
   "source": [
    "# Ejercicio 2\n",
    "\n",
    "Sea el clasificador en dos clases definido por la frontera y regiones de decisión de la figura:"
   ]
  },
  {
   "cell_type": "code",
   "execution_count": 5,
   "metadata": {},
   "outputs": [
    {
     "data": {
      "image/png": "[encoded data removed]",
      "text/plain": [
       "<Figure size 200x200 with 1 Axes>"
      ]
     },
     "metadata": {},
     "output_type": "display_data"
    }
   ],
   "source": [
    "import numpy as np; import matplotlib.pyplot as plt;\n",
    "plt.figure(figsize=(2, 2)); ticks = np.arange(0, 1.1, 0.2); plt.xticks(ticks); plt.yticks(ticks); \n",
    "plt.grid(); plt.plot((0, 1), (0, 1)); plt.text(0.1, 0.6, 'Región 2'); plt.text(0.6, 0.35, 'Región 1');"
   ]
  },
  {
   "cell_type": "markdown",
   "metadata": {},
   "source": [
    "¿Cúal de los siguientes vectores de pesos (en notación homogénea) define un clasificador equivalente al dado?\n",
    "1. $\\boldsymbol{w}_1=(0,-2,0)^t\\;$ y $\\;\\boldsymbol{w}_2=(0,0,-2)^t$.\n",
    "2. $\\boldsymbol{w}_1=(0,2,0)^t\\;$ y $\\;\\boldsymbol{w}_2=(0,0,2)^t$.\n",
    "3. $\\boldsymbol{w}_1=(0,0,2)^t\\;$ y $\\;\\boldsymbol{w}_2=(0,2,0)^t$.\n",
    "4. Todos los vectores de pesos anteriores definen clasificadores equivalentes.\n"
   ]
  },
  {
   "cell_type": "markdown",
   "metadata": {},
   "source": [
    "### Solución \n",
    "\n",
    "Representamos gráficamente las fronteras y regiones de decisión de los tres clasificadores propuestos como equivalentes, y comprobamos si coinciden con la frontera y las regiones de decisión del clasificador de la figura."
   ]
  },
  {
   "cell_type": "markdown",
   "metadata": {},
   "source": [
    "**Respuesta 1:**\n",
    "\n",
    "  - **Funciones discriminantes:**\n",
    "    + $g_1(x) = -2x_1$\n",
    "    + $g_2(x) = -2x_2$\n",
    "  - **Frontera de decisión:**\n",
    "    + $g_1(x) = g_2(x) \\; \\rightarrow \\; -2x_1 = -2x_2; \\; \\rightarrow \\; x_1=x_2$\n",
    "    + Calculamos 2 puntos (cualquiera) para representarla gráficamente. P.e. $\\{(0,0), \\, (1,1)\\}$\n",
    "  - **Regiones de decisión:**\n",
    "    + Clasificamos p.e. el punto $\\boldsymbol{x_{\\text{test}}}=(1,0)$; la clase asignada determinará la clase de la región que contiene el punto $\\boldsymbol{x_\\text{test}}$.\n",
    "    + $c(x_\\text{test}) = \\operatorname*{argmax}_c \\; g_c(x_\\text{test}) = \\operatorname*{argmax} \\; \\{ \\, g_1(x_\\text{test}), \\; g_2(x_\\text{test}) \\, \\} = \\operatorname*{argmax} \\; \\{ -2 , 0 \\} = 2$\n",
    "    + La región de decisión que incluye el punto $\\boldsymbol{x_{\\text{test}}}=(1,0)$ pertenece a la clase 2. La otra región de decisión (la que incluye p.e. el punto $(0,1)$) pertenece a la clase 1.\n",
    "  - **Representación gráfica:**"
   ]
  },
  {
   "cell_type": "code",
   "execution_count": 4,
   "metadata": {},
   "outputs": [
    {
     "data": {
      "image/png": "[encoded data removed]",
      "text/plain": [
       "<Figure size 200x200 with 1 Axes>"
      ]
     },
     "metadata": {},
     "output_type": "display_data"
    }
   ],
   "source": [
    "import numpy as np; import matplotlib.pyplot as plt\n",
    "plt.figure(figsize=(2, 2)); ticks = np.arange(0, 1.1, 0.2); plt.xticks(ticks); plt.yticks(ticks); \n",
    "plt.grid(); plt.plot((0, 1), (0, 1)); plt.text(0.1, 0.6, 'Región 1'); plt.text(0.6, 0.35, 'Región 2');"
   ]
  },
  {
   "cell_type": "markdown",
   "metadata": {},
   "source": [
    "- **Conclusión:**\n",
    "   - no es equivalente (las regiones de decisión difieren)."
   ]
  },
  {
   "cell_type": "markdown",
   "metadata": {},
   "source": [
    "**Respuesta 2:**\n",
    "\n",
    "  - **Funciones discriminantes:**\n",
    "    + $g_1(x) = 2x_1$\n",
    "    + $g_2(x) = 2x_2$\n",
    "  - **Frontera de decisión:**\n",
    "    + $g_1(x) = g_2(x) \\; \\rightarrow \\; 2x_1 = 2x_2; \\; \\rightarrow \\; x_1=x_2$\n",
    "    + Calculamos 2 puntos (cualquiera) para representarla gráficamente. P.e. $\\{(0,0), \\, (1,1)\\}$\n",
    "  - **Regiones de decisión:**\n",
    "    + Clasificamos el punto $\\boldsymbol{x_{\\text{test}}}=(1,0)$.\n",
    "    + $c(x_\\text{test}) = \\operatorname*{argmax}_c \\; g_c(x_\\text{test}) = \\operatorname*{argmax} \\; \\{ \\, g_1(x_\\text{test}), \\; g_2(x_\\text{test}) \\, \\} = \\operatorname*{argmax} \\; \\{ 2 , 0 \\} = 1$\n",
    "    + La región de decisión que incluye el punto $\\boldsymbol{x_{\\text{test}}}=(1,0)$ pertenece a la clase 1. La otra región de decisión pertenece a la clase 2.\n",
    "  - **Representación gráfica:**"
   ]
  },
  {
   "cell_type": "code",
   "execution_count": 7,
   "metadata": {},
   "outputs": [
    {
     "data": {
      "image/png": "[encoded data removed]",
      "text/plain": [
       "<Figure size 200x200 with 1 Axes>"
      ]
     },
     "metadata": {},
     "output_type": "display_data"
    }
   ],
   "source": [
    "import numpy as np; import matplotlib.pyplot as plt\n",
    "plt.figure(figsize=(2, 2)); ticks = np.arange(0, 1.1, 0.2); plt.xticks(ticks); plt.yticks(ticks); \n",
    "plt.grid(); plt.plot((0, 1), (0, 1)); plt.text(0.1, 0.6, 'Región 2'); plt.text(0.6, 0.35, 'Región 1');"
   ]
  },
  {
   "cell_type": "markdown",
   "metadata": {},
   "source": [
    "- **Conclusión:**\n",
    "   - sí es equivalente (la frontea y las regiones de decisión son idénticas).\n",
    "\n",
    "**Respuesta correcta:** \n",
    "   - Siendo 1) incorrecta y la 2) correcta, las respuestas 3) y 4) quedan automáticamente descartadas. Por tanto, la respuesta correcta a esta pregunta es la 2). "
   ]
  },
  {
   "cell_type": "markdown",
   "metadata": {},
   "source": [
    "# Ejercicio 3\n",
    "\n",
    "Sea $\\boldsymbol{x}$ un objeto a clasificar en una clase de $C$ posibles. Indica qué de los siguientes clasificadores **no** es de error mínimo (o escoge la última opción si los tres son de error mínimo):\n",
    "1. $c(\\boldsymbol{x})=\\operatorname*{argmax}\\limits_{c=1,\\dotsc,C}\\;\\log p(c) + \\log p(\\boldsymbol{x}|c) - \\log p(\\boldsymbol{x})$\n",
    "2. $c(\\boldsymbol{x})=\\operatorname*{argmax}\\limits_{ c=1,\\dotsc,C}\\;-\\log p(\\boldsymbol{x},c)$\n",
    "3. $c(\\boldsymbol{x})=\\operatorname*{argmax}\\limits_{c=1,\\dotsc,C}\\;\\log p(c) + \\log p(\\boldsymbol{x}|c)$\n",
    "4. Los tres clasificadores anteriores son de error mínimo"
   ]
  },
  {
   "cell_type": "markdown",
   "metadata": {},
   "source": [
    "### Solución\n",
    "\n",
    "Un clasificador de error mínimo es un clasificador de Bayes o MAP (máxima a posteriori), es decir, aquél que escoge la clase $c$ de máxima $p(c|\\boldsymbol{x})$:\n",
    "\n",
    "$$c(x) = \\operatorname*{argmax}\\limits_{c=1,\\dotsc,C}\\; p(c|\\boldsymbol{x})$$\n",
    "\n",
    "Tenemos que comprobar si los clasificadores propuestos son equivalentes al clasificador de Bayes, aplicando reglas de razonamiento probabilístico y conocimientos teóricos sobre la construcción de clasificadores equivalentes.\n",
    "\n",
    "**Respuesta 1:** sí es de error mínimo. \n",
    "\n",
    "- Demostración:\n",
    "\n",
    "$$c(x) = \\operatorname*{argmax}\\limits_{c=1,\\dotsc,C}\\; p(c|\\boldsymbol{x}) = \\operatorname*{argmax}\\limits_{c=1,\\dotsc,C}\\; \\log p(c|\\boldsymbol{x}) = \\operatorname*{argmax}\\limits_{c=1,\\dotsc,C}\\; \\log \\frac{p(c) \\, p(x|\\boldsymbol{c})}{p(x)} = \\operatorname*{argmax}\\limits_{c=1,\\dotsc,C}\\; \\log p(c) + \\log p(x|\\boldsymbol{c}) - \\log p(x)$$\n",
    "\n",
    "- notar que la función $\\log$ es estrictamente creciente, por tanto, no afecta al resultado de $\\operatorname*{argmax}$.\n",
    "\n",
    "**Respuesta 2:** no es de error mínimo. \n",
    "\n",
    "- Demostración:\n",
    "\n",
    "    + Si bien $\\; \\operatorname*{argmax}_c\\; \\log p(\\boldsymbol{x}, c) \\;$ sí sería un clasificador de error mínimo:\n",
    "\n",
    "  $$ c(x) = \\operatorname*{argmax}\\limits_{c=1,\\dotsc,C}\\; p(c|\\boldsymbol{x}) = \\operatorname*{argmax}\\limits_{c=1,\\dotsc,C}\\; \\log p(c|\\boldsymbol{x}) = \\operatorname*{argmax}\\limits_{c=1,\\dotsc,C}\\; \\log \\frac{p(\\boldsymbol{x},c)}{p(\\boldsymbol{x})} = \\operatorname*{argmax}\\limits_{c=1,\\dotsc,C}\\; \\log p(\\boldsymbol{x},c)$$\n",
    "\n",
    "  \n",
    "    + $\\; \\operatorname*{argmax}_c\\; - \\log p(\\boldsymbol{x}, c)\\;$ no lo es, ya que se aplica una función lineal $f(z) = a\\cdot z +b$ con $a=-1$, $b=0$, y $z=\\log p(\\boldsymbol{x}, c)$, siendo $a <0$, lo que alteraría el sentido de la decisión (dejaría de ser un clasificador equivalente).\n",
    "\n",
    "**Respuesta 3:** sí es de error mínimo. \n",
    "\n",
    "- Demostración:\n",
    "\n",
    "    + La derivación es la misma que en la opción 1, y a demás, podemos prescindir del término $- \\log p(x)$ al ser una constante respecto al operador $\\operatorname*{argmax}$.\n",
    "\n",
    "**Respuesta 4:** queda descartada por razones obvias.\n",
    "\n",
    "**Respuesta correcta:** la 2."
   ]
  }
 ],
 "metadata": {
  "kernelspec": {
   "display_name": "sin-2324",
   "language": "python",
   "name": "sin-2324"
  },
  "language_info": {
   "codemirror_mode": {
    "name": "ipython",
    "version": 3
   },
   "file_extension": ".py",
   "mimetype": "text/x-python",
   "name": "python",
   "nbconvert_exporter": "python",
   "pygments_lexer": "ipython3",
   "version": "3.8.10"
  }
 },
 "nbformat": 4,
 "nbformat_minor": 2
}
